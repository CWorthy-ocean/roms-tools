{
 "cells": [
  {
   "cell_type": "markdown",
   "id": "cb4d403b-a1e1-446c-b187-b2028708d6f5",
   "metadata": {},
   "source": [
    "# Joining partitioned ROMS files\n",
    "In addition to requiring partitioned input files, ROMS produces partitioned output files, which need to be joined to be analyzed.\n",
    "We can join these files using the `join_netcdf` function.\n",
    "\n",
    "## Writing some partitioned example files\n",
    "As in the page in [partitioning](https://roms-tools.readthedocs.io/en/latest/partition.html), we will create and partition some example files to demonstrate the use of the joining tool:"
   ]
  },
  {
   "cell_type": "code",
   "execution_count": 1,
   "id": "0ed9722f-2355-4af6-8173-4d2096f9e545",
   "metadata": {},
   "outputs": [
    {
     "name": "stderr",
     "output_type": "stream",
     "text": [
      "OMP: Info #276: omp_set_nested routine deprecated, please use omp_set_max_active_levels instead.\n"
     ]
    }
   ],
   "source": [
    "%matplotlib inline\n",
    "from roms_tools import Grid"
   ]
  },
  {
   "cell_type": "code",
   "execution_count": 2,
   "id": "65f3bf68-f9e3-4a57-af0a-d9e4d2a7bc4c",
   "metadata": {},
   "outputs": [],
   "source": [
    "grid = Grid(\n",
    "    nx=300,\n",
    "    ny=150,\n",
    "    size_x=23000,\n",
    "    size_y=12000,\n",
    "    center_lon=-161.0,\n",
    "    center_lat=14.4,\n",
    "    rot=-3.0,\n",
    ")"
   ]
  },
  {
   "cell_type": "code",
   "execution_count": 3,
   "id": "93863293-26a6-40ec-a47c-0583aa7e1b95",
   "metadata": {},
   "outputs": [],
   "source": [
    "grid.plot()"
   ]
  },
  {
   "cell_type": "code",
   "execution_count": 4,
   "id": "b14e5817-ca0d-4b9d-966b-dee9c311716e",
   "metadata": {},
   "outputs": [
    {
     "name": "stderr",
     "output_type": "stream",
     "text": [
      "INFO - Writing the following NetCDF files:\n",
      "my_roms_grid.nc\n"
     ]
    },
    {
     "data": {
      "text/plain": [
       "[PosixPath('my_roms_grid.nc')]"
      ]
     },
     "execution_count": 4,
     "metadata": {},
     "output_type": "execute_result"
    }
   ],
   "source": [
    "filepath_grid=\"my_roms_grid.nc\"\n",
    "grid.save(filepath_grid)"
   ]
  },
  {
   "cell_type": "code",
   "execution_count": 5,
   "id": "01828dbb-430e-4d49-b0ad-fe77ca07d464",
   "metadata": {},
   "outputs": [
    {
     "data": {
      "text/plain": [
       "[PosixPath('to_join/my_roms_grid.00.nc'),\n",
       " PosixPath('to_join/my_roms_grid.01.nc'),\n",
       " PosixPath('to_join/my_roms_grid.02.nc'),\n",
       " PosixPath('to_join/my_roms_grid.03.nc'),\n",
       " PosixPath('to_join/my_roms_grid.04.nc'),\n",
       " PosixPath('to_join/my_roms_grid.05.nc'),\n",
       " PosixPath('to_join/my_roms_grid.06.nc'),\n",
       " PosixPath('to_join/my_roms_grid.07.nc'),\n",
       " PosixPath('to_join/my_roms_grid.08.nc'),\n",
       " PosixPath('to_join/my_roms_grid.09.nc'),\n",
       " PosixPath('to_join/my_roms_grid.10.nc'),\n",
       " PosixPath('to_join/my_roms_grid.11.nc'),\n",
       " PosixPath('to_join/my_roms_grid.12.nc'),\n",
       " PosixPath('to_join/my_roms_grid.13.nc'),\n",
       " PosixPath('to_join/my_roms_grid.14.nc')]"
      ]
     },
     "execution_count": 5,
     "metadata": {},
     "output_type": "execute_result"
    }
   ],
   "source": [
    "from roms_tools import partition_netcdf\n",
    "partition_netcdf(filepath_grid, np_xi=5, np_eta=3,output_dir=\"to_join/\")"
   ]
  },
  {
   "cell_type": "markdown",
   "id": "7257652a-a11f-4f82-b12f-ce19e091774e",
   "metadata": {},
   "source": [
    "## Joining the example files\n",
    "Each of these files has a subset of the original grid in it. To reassemble them into a coherent whole, we use the `join_netcdf` tool. The tool takes a wildcard pattern or list of files, and infers the original layout:"
   ]
  },
  {
   "cell_type": "code",
   "execution_count": 6,
   "id": "4cabc0b4-8679-4c05-988e-b8cbe52c70c2",
   "metadata": {},
   "outputs": [],
   "source": [
    "from roms_tools import join_netcdf"
   ]
  },
  {
   "cell_type": "code",
   "execution_count": 7,
   "id": "eea411ef-1d68-4313-b43b-5808c3e12102",
   "metadata": {},
   "outputs": [
    {
     "name": "stdout",
     "output_type": "stream",
     "text": [
      "Saved joined dataset to: to_join/my_roms_grid.nc\n"
     ]
    }
   ],
   "source": [
    "joined_grid_path = join_netcdf(\"to_join/my_roms_grid.??.nc\")"
   ]
  },
  {
   "cell_type": "code",
   "execution_count": 8,
   "id": "8e488ece-10ba-48c5-8ed6-4a2e36343fab",
   "metadata": {},
   "outputs": [],
   "source": [
    "joined_grid = Grid.from_file(\"to_join/my_roms_grid.nc\")"
   ]
  },
  {
   "cell_type": "code",
   "execution_count": null,
   "id": "96ea5f7d-af53-4ee1-aaf1-07314ca40101",
   "metadata": {},
   "outputs": [],
   "source": [
    "joined_grid.plot()"
   ]
  }
 ],
 "metadata": {
  "kernelspec": {
   "display_name": "Python 3 (ipykernel)",
   "language": "python",
   "name": "python3"
  },
  "language_info": {
   "codemirror_mode": {
    "name": "ipython",
    "version": 3
   },
   "file_extension": ".py",
   "mimetype": "text/x-python",
   "name": "python",
   "nbconvert_exporter": "python",
   "pygments_lexer": "ipython3",
   "version": "3.12.10"
  }
 },
 "nbformat": 4,
 "nbformat_minor": 5
}
