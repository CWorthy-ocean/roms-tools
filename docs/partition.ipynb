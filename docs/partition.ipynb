{
 "cells": [
  {
   "cell_type": "markdown",
   "id": "ce8e1e7c-bc05-435a-ab05-68e03a5866a4",
   "metadata": {},
   "source": [
    "# Partitioning the input files\n",
    "\n",
    "ROMS requires partitioned (or tiled) input files so that the simulation can be parallelized over multiple nodes. `ROMS-Tools` can create these partitioned files for you."
   ]
  },
  {
   "cell_type": "markdown",
   "id": "60bb804f-c1ad-4a29-9983-016c9ba51921",
   "metadata": {},
   "source": [
    "## Partitioning existing files"
   ]
  },
  {
   "cell_type": "markdown",
   "id": "9fe13d86-db59-4ce3-9a5a-3e5c594012fe",
   "metadata": {},
   "source": [
    "Let's assume we have already saved a global (i.e., non-partitioned) input file to disk. The following function can partition that global file."
   ]
  },
  {
   "cell_type": "code",
   "execution_count": 1,
   "id": "9ddac10b-eaab-4837-8ada-76abafdf31cb",
   "metadata": {
    "tags": []
   },
   "outputs": [],
   "source": [
    "from roms_tools.utils import partition_netcdf"
   ]
  },
  {
   "cell_type": "markdown",
   "id": "6cd346fb-49ef-433c-a507-ab6c60e114df",
   "metadata": {},
   "source": [
    "Here is an example for creating and saving a global grid file with `ROMS-Tools`. (Note, however, that `ROMS-Tool`'s `partition_netcdf` tool does not care whether or whether not `ROMS-Tools` was used to create the global file.)"
   ]
  },
  {
   "cell_type": "code",
   "execution_count": 2,
   "id": "71cece64-0143-41e6-b9c8-dc85b97d0bba",
   "metadata": {
    "tags": []
   },
   "outputs": [],
   "source": [
    "from roms_tools import Grid"
   ]
  },
  {
   "cell_type": "code",
   "execution_count": 3,
   "id": "93596aca-7ee2-4757-8383-bc09267eec6e",
   "metadata": {
    "tags": []
   },
   "outputs": [],
   "source": [
    "grid = Grid(\n",
    "    nx=100, ny=100, size_x=1800, size_y=2400, center_lon=-21, center_lat=61, rot=20\n",
    ")"
   ]
  },
  {
   "cell_type": "code",
   "execution_count": 6,
   "id": "eee45862-2383-4335-896c-de567478aeae",
   "metadata": {
    "tags": []
   },
   "outputs": [],
   "source": [
    "filepath = \"/pscratch/sd/n/nloose/grids/my_roms_grid.nc\""
   ]
  },
  {
   "cell_type": "code",
   "execution_count": 7,
   "id": "72e1cf7e-226e-4abe-8abe-e39877fbc21b",
   "metadata": {
    "tags": []
   },
   "outputs": [
    {
     "data": {
      "text/plain": [
       "[PosixPath('/pscratch/sd/n/nloose/grids/my_roms_grid.nc')]"
      ]
     },
     "execution_count": 7,
     "metadata": {},
     "output_type": "execute_result"
    }
   ],
   "source": [
    "grid.save(filepath)"
   ]
  },
  {
   "cell_type": "markdown",
   "id": "11a319f2-dcb4-425c-b679-74e38ab66184",
   "metadata": {},
   "source": [
    "We can now partition the saved file. We need to tell the `partition_netcdf` function what domain decomposition to use via the following two parameters:\n",
    "\n",
    "* `np_eta` : The number of partitions along the `eta` direction.\n",
    "* `np_xi` : The number of partitions along the `xi` direction."
   ]
  },
  {
   "cell_type": "code",
   "execution_count": 8,
   "id": "16a35ce0-9ef6-49b5-8230-46f99dc4709f",
   "metadata": {
    "tags": []
   },
   "outputs": [
    {
     "data": {
      "text/plain": [
       "[PosixPath('/pscratch/sd/n/nloose/grids/my_roms_grid.0.nc'),\n",
       " PosixPath('/pscratch/sd/n/nloose/grids/my_roms_grid.1.nc'),\n",
       " PosixPath('/pscratch/sd/n/nloose/grids/my_roms_grid.2.nc'),\n",
       " PosixPath('/pscratch/sd/n/nloose/grids/my_roms_grid.3.nc'),\n",
       " PosixPath('/pscratch/sd/n/nloose/grids/my_roms_grid.4.nc'),\n",
       " PosixPath('/pscratch/sd/n/nloose/grids/my_roms_grid.5.nc'),\n",
       " PosixPath('/pscratch/sd/n/nloose/grids/my_roms_grid.6.nc'),\n",
       " PosixPath('/pscratch/sd/n/nloose/grids/my_roms_grid.7.nc'),\n",
       " PosixPath('/pscratch/sd/n/nloose/grids/my_roms_grid.8.nc'),\n",
       " PosixPath('/pscratch/sd/n/nloose/grids/my_roms_grid.9.nc')]"
      ]
     },
     "execution_count": 8,
     "metadata": {},
     "output_type": "execute_result"
    }
   ],
   "source": [
    "partition_netcdf(filepath, np_eta=2, np_xi=5)"
   ]
  },
  {
   "cell_type": "markdown",
   "id": "710fee39-f7e3-42ec-a626-b07ffeeb5e72",
   "metadata": {},
   "source": [
    "## Creating partitioned files directly"
   ]
  },
  {
   "cell_type": "markdown",
   "id": "42d95865-b527-44d5-a3dd-cf7bc7ccdf70",
   "metadata": {},
   "source": [
    "Instead of first saving a global file and then partitioning the written NetCDF file, we can also tell `ROMS-Tools` to write partitioned files directly. This will skip writing the global file."
   ]
  },
  {
   "cell_type": "code",
   "execution_count": 9,
   "id": "ca08a3a8-719f-4f64-942a-234d0064400d",
   "metadata": {
    "tags": []
   },
   "outputs": [],
   "source": [
    "grid = Grid(\n",
    "    nx=100, ny=100, size_x=1800, size_y=2400, center_lon=-21, center_lat=61, rot=20\n",
    ")"
   ]
  },
  {
   "cell_type": "code",
   "execution_count": 10,
   "id": "55fca526-ad69-46d4-bcec-7fde111510b7",
   "metadata": {
    "tags": []
   },
   "outputs": [],
   "source": [
    "filepath = \"/pscratch/sd/n/nloose/grids/my_roms_grid.nc\""
   ]
  },
  {
   "cell_type": "code",
   "execution_count": 11,
   "id": "45cf6192-e13f-401f-9c78-ad23e00b1473",
   "metadata": {
    "tags": []
   },
   "outputs": [
    {
     "data": {
      "text/plain": [
       "[PosixPath('/pscratch/sd/n/nloose/grids/my_roms_grid.0.nc'),\n",
       " PosixPath('/pscratch/sd/n/nloose/grids/my_roms_grid.1.nc'),\n",
       " PosixPath('/pscratch/sd/n/nloose/grids/my_roms_grid.2.nc'),\n",
       " PosixPath('/pscratch/sd/n/nloose/grids/my_roms_grid.3.nc'),\n",
       " PosixPath('/pscratch/sd/n/nloose/grids/my_roms_grid.4.nc'),\n",
       " PosixPath('/pscratch/sd/n/nloose/grids/my_roms_grid.5.nc'),\n",
       " PosixPath('/pscratch/sd/n/nloose/grids/my_roms_grid.6.nc'),\n",
       " PosixPath('/pscratch/sd/n/nloose/grids/my_roms_grid.7.nc'),\n",
       " PosixPath('/pscratch/sd/n/nloose/grids/my_roms_grid.8.nc'),\n",
       " PosixPath('/pscratch/sd/n/nloose/grids/my_roms_grid.9.nc')]"
      ]
     },
     "execution_count": 11,
     "metadata": {},
     "output_type": "execute_result"
    }
   ],
   "source": [
    "grid.save(filepath, np_eta=2, np_xi=5)"
   ]
  },
  {
   "cell_type": "code",
   "execution_count": null,
   "id": "15e2828b-1a4a-436c-82b7-3fc2539c5ac9",
   "metadata": {},
   "outputs": [],
   "source": []
  },
  {
   "cell_type": "code",
   "execution_count": null,
   "id": "b1622362-3ae2-4015-81a2-ffc2494db16c",
   "metadata": {},
   "outputs": [],
   "source": []
  }
 ],
 "metadata": {
  "kernelspec": {
   "display_name": "romstools",
   "language": "python",
   "name": "romstools"
  },
  "language_info": {
   "codemirror_mode": {
    "name": "ipython",
    "version": 3
   },
   "file_extension": ".py",
   "mimetype": "text/x-python",
   "name": "python",
   "nbconvert_exporter": "python",
   "pygments_lexer": "ipython3",
   "version": "3.12.7"
  }
 },
 "nbformat": 4,
 "nbformat_minor": 5
}
