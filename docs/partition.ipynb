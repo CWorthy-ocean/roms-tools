{
 "cells": [
  {
   "cell_type": "markdown",
   "id": "ce8e1e7c-bc05-435a-ab05-68e03a5866a4",
   "metadata": {},
   "source": [
    "# Partitioning the input files\n",
    "\n",
    "ROMS requires partitioned (or tiled) input files so that the simulation can be parallelized over multiple nodes. `ROMS-Tools` can create these partitioned files for you."
   ]
  },
  {
   "cell_type": "code",
   "execution_count": 1,
   "id": "fd95437d-4fbb-4cf2-b405-c294f1b122e8",
   "metadata": {},
   "outputs": [],
   "source": [
    "from roms_tools.utils import partition"
   ]
  },
  {
   "cell_type": "markdown",
   "id": "60bb804f-c1ad-4a29-9983-016c9ba51921",
   "metadata": {},
   "source": [
    "## Partitioning existing files"
   ]
  },
  {
   "cell_type": "markdown",
   "id": "9fe13d86-db59-4ce3-9a5a-3e5c594012fe",
   "metadata": {},
   "source": [
    "Let's assume we have already saved a global input file to disk, let's call this step 0:\n",
    "\n",
    "0. Save global file to disk.\n",
    "\n",
    "Here is an example for performing step 0 with `ROMS-Tools` for the grid file. (Note, however, that the `partition` tool does not care whether or whether not `ROMS-Tools` was used to perform step 0.)"
   ]
  },
  {
   "cell_type": "code",
   "execution_count": 2,
   "id": "71cece64-0143-41e6-b9c8-dc85b97d0bba",
   "metadata": {},
   "outputs": [],
   "source": [
    "from roms_tools import Grid"
   ]
  },
  {
   "cell_type": "code",
   "execution_count": 3,
   "id": "93596aca-7ee2-4757-8383-bc09267eec6e",
   "metadata": {
    "tags": []
   },
   "outputs": [],
   "source": [
    "grid = Grid(\n",
    "    nx=100, ny=100, size_x=1800, size_y=2400, center_lon=-21, center_lat=61, rot=20\n",
    ")"
   ]
  },
  {
   "cell_type": "code",
   "execution_count": 4,
   "id": "eee45862-2383-4335-896c-de567478aeae",
   "metadata": {},
   "outputs": [],
   "source": [
    "path_to_global_file = \"/glade/derecho/scratch/noraloose/examples/my_grid\""
   ]
  },
  {
   "cell_type": "code",
   "execution_count": 5,
   "id": "72e1cf7e-226e-4abe-8abe-e39877fbc21b",
   "metadata": {},
   "outputs": [
    {
     "name": "stdout",
     "output_type": "stream",
     "text": [
      "Saving the following files:\n",
      "/glade/derecho/scratch/noraloose/examples/my_grid.nc\n"
     ]
    }
   ],
   "source": [
    "grid.save(f\"{path_to_global_file}.nc\")"
   ]
  },
  {
   "cell_type": "markdown",
   "id": "11a319f2-dcb4-425c-b679-74e38ab66184",
   "metadata": {},
   "source": [
    "We can now partition the saved file as follows:\n",
    "\n",
    "1. `xr.open_dataset`: Open saved file as xarray Dataset\n",
    "2. `partition`: Partition the xarray Dataset into `nx` by `ny` spatial tiles\n",
    "3. `xr.save_mfdataset`: Save the partitioned xarray Datasets to file"
   ]
  },
  {
   "cell_type": "code",
   "execution_count": 6,
   "id": "b6e30499-935a-4078-895c-b0e4cd0b1920",
   "metadata": {},
   "outputs": [],
   "source": [
    "import xarray as xr"
   ]
  },
  {
   "cell_type": "code",
   "execution_count": 7,
   "id": "16a35ce0-9ef6-49b5-8230-46f99dc4709f",
   "metadata": {},
   "outputs": [],
   "source": [
    "ds = xr.open_dataset(f\"{path_to_global_file}.nc\")  # step 1"
   ]
  },
  {
   "cell_type": "code",
   "execution_count": 8,
   "id": "7081fa77-2af5-4642-b879-29c827f3efc7",
   "metadata": {},
   "outputs": [],
   "source": [
    "file_numbers, partitioned_datasets = partition(ds, np_eta=2, np_xi=5)  # step 2"
   ]
  },
  {
   "cell_type": "markdown",
   "id": "811cc34e-e913-4526-a062-b8b6eba5aede",
   "metadata": {},
   "source": [
    "The previous cell returns two lists:\n",
    "\n",
    "* `file_numbers` is a list of integers representing the file numbers associated with each partitioned dataset\n",
    "* `partitioned_datasets` is a list of `xarray.Dataset` objects, each representing a partitioned subdomain of the original dataset"
   ]
  },
  {
   "cell_type": "code",
   "execution_count": 9,
   "id": "946a5e67-1328-4a3c-8931-634718cd7a63",
   "metadata": {},
   "outputs": [
    {
     "data": {
      "text/plain": [
       "[0, 1, 2, 3, 4, 5, 6, 7, 8, 9]"
      ]
     },
     "execution_count": 9,
     "metadata": {},
     "output_type": "execute_result"
    }
   ],
   "source": [
    "file_numbers"
   ]
  },
  {
   "cell_type": "markdown",
   "id": "b2e0e743-c08c-49ad-97c4-f36586ca9906",
   "metadata": {},
   "source": [
    "For the third step, we have to create a list of paths to which to save each corresponding dataset. This is where the list `file_numbers` comes in handy."
   ]
  },
  {
   "cell_type": "code",
   "execution_count": 11,
   "id": "ab26dd1f-43ec-45f6-b7ac-eb3bc038ffa4",
   "metadata": {},
   "outputs": [],
   "source": [
    "paths_to_partitioned_files = [\n",
    "    f\"{path_to_global_file}.{file_number}.nc\" for file_number in file_numbers\n",
    "]"
   ]
  },
  {
   "cell_type": "code",
   "execution_count": 12,
   "id": "aa90976d-29d3-480c-84df-2c91f8aa5bd4",
   "metadata": {},
   "outputs": [
    {
     "data": {
      "text/plain": [
       "['/glade/derecho/scratch/noraloose/examples/my_grid.0.nc',\n",
       " '/glade/derecho/scratch/noraloose/examples/my_grid.1.nc',\n",
       " '/glade/derecho/scratch/noraloose/examples/my_grid.2.nc',\n",
       " '/glade/derecho/scratch/noraloose/examples/my_grid.3.nc',\n",
       " '/glade/derecho/scratch/noraloose/examples/my_grid.4.nc',\n",
       " '/glade/derecho/scratch/noraloose/examples/my_grid.5.nc',\n",
       " '/glade/derecho/scratch/noraloose/examples/my_grid.6.nc',\n",
       " '/glade/derecho/scratch/noraloose/examples/my_grid.7.nc',\n",
       " '/glade/derecho/scratch/noraloose/examples/my_grid.8.nc',\n",
       " '/glade/derecho/scratch/noraloose/examples/my_grid.9.nc']"
      ]
     },
     "execution_count": 12,
     "metadata": {},
     "output_type": "execute_result"
    }
   ],
   "source": [
    "paths_to_partitioned_files"
   ]
  },
  {
   "cell_type": "code",
   "execution_count": 13,
   "id": "4d103aa2-6fab-4e1a-97a8-1f1a3fbfd193",
   "metadata": {},
   "outputs": [],
   "source": [
    "xr.save_mfdataset(partitioned_datasets, paths_to_partitioned_files)  # step 3"
   ]
  },
  {
   "cell_type": "markdown",
   "id": "e169095c-1b33-4b64-a589-24ae1f9ebe3c",
   "metadata": {},
   "source": [
    "The previous cell saved the ten partitioned datasets to the indicated location:"
   ]
  },
  {
   "cell_type": "code",
   "execution_count": 14,
   "id": "77863475-d447-46cb-a619-89960c1d92a5",
   "metadata": {},
   "outputs": [
    {
     "name": "stdout",
     "output_type": "stream",
     "text": [
      "my_grid.0.nc  my_grid.3.nc  my_grid.6.nc  my_grid.9.nc\n",
      "my_grid.1.nc  my_grid.4.nc  my_grid.7.nc  my_grid.nc\n",
      "my_grid.2.nc  my_grid.5.nc  my_grid.8.nc\n"
     ]
    }
   ],
   "source": [
    "ls /glade/derecho/scratch/noraloose/examples/"
   ]
  },
  {
   "cell_type": "markdown",
   "id": "710fee39-f7e3-42ec-a626-b07ffeeb5e72",
   "metadata": {},
   "source": [
    "## Creating partitioned files directly"
   ]
  },
  {
   "cell_type": "markdown",
   "id": "42d95865-b527-44d5-a3dd-cf7bc7ccdf70",
   "metadata": {},
   "source": [
    "Instead of manually going through steps 0, 1, 2, 3 above, we can also tell `ROMS-Tools` to write partitioned files directly."
   ]
  },
  {
   "cell_type": "code",
   "execution_count": 15,
   "id": "ca08a3a8-719f-4f64-942a-234d0064400d",
   "metadata": {},
   "outputs": [],
   "source": [
    "grid = Grid(\n",
    "    nx=100, ny=100, size_x=1800, size_y=2400, center_lon=-21, center_lat=61, rot=20\n",
    ")"
   ]
  },
  {
   "cell_type": "code",
   "execution_count": 16,
   "id": "45cf6192-e13f-401f-9c78-ad23e00b1473",
   "metadata": {},
   "outputs": [
    {
     "name": "stdout",
     "output_type": "stream",
     "text": [
      "Saving the following files:\n",
      "/glade/derecho/scratch/noraloose/grids/my_grid.0.nc\n",
      "/glade/derecho/scratch/noraloose/grids/my_grid.1.nc\n",
      "/glade/derecho/scratch/noraloose/grids/my_grid.2.nc\n",
      "/glade/derecho/scratch/noraloose/grids/my_grid.3.nc\n",
      "/glade/derecho/scratch/noraloose/grids/my_grid.4.nc\n",
      "/glade/derecho/scratch/noraloose/grids/my_grid.5.nc\n",
      "/glade/derecho/scratch/noraloose/grids/my_grid.6.nc\n",
      "/glade/derecho/scratch/noraloose/grids/my_grid.7.nc\n",
      "/glade/derecho/scratch/noraloose/grids/my_grid.8.nc\n",
      "/glade/derecho/scratch/noraloose/grids/my_grid.9.nc\n"
     ]
    }
   ],
   "source": [
    "grid.save(filepath=\"/glade/derecho/scratch/noraloose/grids/my_grid\", np_eta=2, np_xi=5)"
   ]
  },
  {
   "cell_type": "code",
   "execution_count": null,
   "id": "15e2828b-1a4a-436c-82b7-3fc2539c5ac9",
   "metadata": {},
   "outputs": [],
   "source": []
  }
 ],
 "metadata": {
  "kernelspec": {
   "display_name": "Python [conda env:romstools]",
   "language": "python",
   "name": "conda-env-romstools-py"
  },
  "language_info": {
   "codemirror_mode": {
    "name": "ipython",
    "version": 3
   },
   "file_extension": ".py",
   "mimetype": "text/x-python",
   "name": "python",
   "nbconvert_exporter": "python",
   "pygments_lexer": "ipython3",
   "version": "3.12.4"
  }
 },
 "nbformat": 4,
 "nbformat_minor": 5
}
