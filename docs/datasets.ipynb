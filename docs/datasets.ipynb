{
 "cells": [
  {
   "cell_type": "markdown",
   "id": "9d61a796-0d4d-4e72-bed4-70ba9917aed6",
   "metadata": {},
   "source": [
    "# Datasets\n",
    "\n",
    "## Overview\n",
    "\n",
    "To use `ROMS-Tools`, the user must download the following datasets:\n",
    "\n",
    "| **Dataset** | **Supported Versions** | **Notes** | **Required Fields** | **Field Description** | **Available at** | **Required For** |\n",
    "|-------------|------------------------|----------|--------------------|---------------------|-----------------|-----------------|\n",
    "| **SRTM15** | V2.6 | | `lat` | Latitude (degrees north) | [USCD SRTM15+ Product](https://topex.ucsd.edu/WWW_html/srtm15_plus.html) | Grid (Topography) |\n",
    "| | | | `lon` | Longitude (degrees east) | | |\n",
    "| | | | `z` | Topography | | |\n",
    "| **TPXO** | TPXO9v5a (1/6°) | | `lat_z` | Latitude of z nodes | [OSU TPXO Tide Models](https://www.tpxo.net/global) | Tidal Forcing |\n",
    "| | TPXO10v2 (1/6°) | | `lon_z` | Longitude of z nodes | | |\n",
    "| | TPXO10v2a (1/6°)| | `lat_u` | Latitude of u nodes | | |\n",
    "| | | | `lon_u` | Longitude of u nodes | | |\n",
    "| | | | `lat_v` | Latitude of v nodes | | |\n",
    "| | | | `lon_v` | Longitude of v nodes | | |\n",
    "| | | | `mz` | Water/land mask for z nodes | | |\n",
    "| | | | `mu` | Water/land mask for u nodes | | |\n",
    "| | | | `mv` | Water/land mask for v nodes | | |\n",
    "| | | | `hRe` | Tidal elevation, real part (m) | | |\n",
    "| | | | `hIm` | Tidal elevation, imaginary part (m) | | |\n",
    "| | | | `URe` | Tidal transport WE, real part (m²/s) | | |\n",
    "| | | | `UIm` | Tidal transport WE, imaginary part (m²/s) | | |\n",
    "| | | | `VRe` | Tidal transport SN, real part (m²/s) | | |\n",
    "| | | | `VIm` | Tidal transport SN, imaginary part (m²/s) | | |\n",
    "| **GLORYS** |  | **Refer to notes below for download instructions** | `time` | Time | [Mercator Ocean](https://data.marine.copernicus.eu/product/GLOBAL_MULTIYEAR_PHY_001_030/description) | Initial Conditions, Boundary Forcing |\n",
    "| | | | `latitude` | Latitude (degrees north) | | |\n",
    "| | | | `longitude` | Longitude (degrees east) | | |\n",
    "| | | | `depth` | Depth (m) | | |\n",
    "| | | | `zos` | Sea surface height (m) | | |\n",
    "| | | | `thetao` | Temperature (°C) | | |\n",
    "| | | | `so` | Salinity (psu) | | |\n",
    "| | | | `uo` | Eastward velocity (m/s) | | |\n",
    "| | | | `vo` | Northward velocity (m/s) | | |\n",
    "| **ERA5** |  | ROMS-Tools can stream ERA5 data directly, so **downloading ERA5 data is optional** | `time` | Time | [Climate Data Store](https://cds.climate.copernicus.eu/datasets/reanalysis-era5-single-levels) | Surface Forcing |\n",
    "| | | | `latitude` | Latitude (degrees north) | | |\n",
    "| | | | `longitude` | Longitude (degrees east) | | |\n",
    "| | | | `u10` | 10m U wind component (m/s) | | |\n",
    "| | | | `v10` | 10m V wind component (m/s) | | |\n",
    "| | | | `ssr` | Surface net short-wave (W/m²) | | |\n",
    "| | | | `strd` | Surface long-wave downwards (W/m²) | | |\n",
    "| | | | `t2m` | 2m temperature (K) | | |\n",
    "| | | | `d2m` | 2m dewpoint temperature (K) | | |\n",
    "| | | | `tp` | Total precipitation (m) | | |\n",
    "| | | | `sst` | Sea surface temperature (K) — used for land masking | | |\n",
    "| **Dai & Trenberth** | 2019 | Coastal station volumes (monthly); **automatically downloaded by ROMS-Tools** | `station` | Station index | [NCAR RDA](https://rda.ucar.edu/datasets/d551000/dataaccess/#) | River Forcing |\n",
    "|  |  |  | `time` | Time | | |\n",
    "|  |  |  | `lat_mou` | River mouth latitude | | |\n",
    "|  |  |  | `lon_mou` | River mouth longitude | | |\n",
    "|  |  |  | `FLOW` | Monthly mean volume at station | | |\n",
    "|  |  |  | `ratio_m2s` | Ratio of volume between river mouth and station | | |\n",
    "|  |  |  | `riv_name` | River name | | |\n",
    "|  |  |  | `vol_stn` (optional) | Annual volume at station | | |\n"
   ]
  },
  {
   "cell_type": "markdown",
   "id": "d01c060c-f250-4869-9db3-18f1b6a7d644",
   "metadata": {},
   "source": [
    "## Downloading GLORYS data\n",
    "\n",
    "You can download GLORYS data from the [Copernicus Marine Data Store](https://data.marine.copernicus.eu/products).  \n",
    "To access the data, [register for a Copernicus Marine Service account](https://help.marine.copernicus.eu/en/articles/4220332-how-to-sign-up-for-copernicus-marine-service) to obtain a username and password.\n",
    "\n",
    "Once registered, install the `copernicusmarine` package to download the datasets:\n",
    "\n",
    "```bash\n",
    "pip install copernicusmarine\n",
    "```"
   ]
  },
  {
   "cell_type": "code",
   "execution_count": 1,
   "id": "51fb2291-31e7-4bad-aa48-8e164df2aac1",
   "metadata": {},
   "outputs": [
    {
     "name": "stderr",
     "output_type": "stream",
     "text": [
      "/Users/noraloose/miniconda3/envs/romstools-test/lib/python3.13/site-packages/requests/__init__.py:86: RequestsDependencyWarning: Unable to find acceptable character detection dependency (chardet or charset_normalizer).\n",
      "  warnings.warn(\n"
     ]
    }
   ],
   "source": [
    "import copernicusmarine"
   ]
  },
  {
   "cell_type": "markdown",
   "id": "c05d09f9-f046-4b4c-ad87-8c39ae373a95",
   "metadata": {},
   "source": [
    "When you first log in with `copernicusmarine`, your credentials are saved in a `.copernicusmarine-credentials` file. This one-time setup gives you seamless access to all Copernicus Marine services without re-entering credentials.\n",
    "\n",
    "```python\n",
    "copernicusmarine.login(username=\"YOUR_USERNAME\", password=\"YOUR_PASSWORD\")\n",
    "```"
   ]
  },
  {
   "cell_type": "markdown",
   "id": "4cc9a0f4-3856-4b12-ae5a-2889dfa1d3fc",
   "metadata": {},
   "source": [
    "### Downloading global data\n",
    "This example demonstrates how to download the global GLORYS dataset for a specified time range, defined by `start_time` and `end_time`. In this case, we select January 2012."
   ]
  },
  {
   "cell_type": "code",
   "execution_count": 2,
   "id": "bda08510-e9d7-4bb5-9e08-0d1854851cfa",
   "metadata": {},
   "outputs": [],
   "source": [
    "from datetime import datetime"
   ]
  },
  {
   "cell_type": "code",
   "execution_count": 3,
   "id": "ac429b85-1e1e-469a-b469-dcbb70bb23e2",
   "metadata": {},
   "outputs": [],
   "source": [
    "start_time = datetime(2012, 1, 1)\n",
    "end_time = datetime(2012, 2, 1)"
   ]
  },
  {
   "cell_type": "code",
   "execution_count": 4,
   "id": "6a03d43c-8c2f-4a88-aa70-791dd7a01918",
   "metadata": {},
   "outputs": [
    {
     "name": "stderr",
     "output_type": "stream",
     "text": [
      "INFO - 2025-08-29T21:33:43Z - Selected dataset version: \"202311\"\n",
      "INFO - 2025-08-29T21:33:43Z - Selected dataset part: \"default\"\n",
      "INFO - 2025-08-29T21:33:45Z - Starting download. Please wait...\n"
     ]
    },
    {
     "data": {
      "application/vnd.jupyter.widget-view+json": {
       "model_id": "6977e52aa653409794c66b9a8f0e7f51",
       "version_major": 2,
       "version_minor": 0
      },
      "text/plain": [
       "  0%|          | 0/6761 [00:00<?, ?it/s]"
      ]
     },
     "metadata": {},
     "output_type": "display_data"
    },
    {
     "name": "stderr",
     "output_type": "stream",
     "text": [
      "INFO - 2025-09-02T18:51:23Z - Successfully downloaded to copernicus-data/global_GLORYS_Jan2012_(2).nc\n"
     ]
    },
    {
     "name": "stdout",
     "output_type": "stream",
     "text": [
      "CPU times: user 17min 42s, sys: 16min 48s, total: 34min 30s\n",
      "Wall time: 3d 21h 17min 42s\n"
     ]
    },
    {
     "data": {
      "text/plain": [
       "ResponseSubset(file_path=PosixPath('copernicus-data/global_GLORYS_Jan2012_(2).nc'), output_directory=PosixPath('copernicus-data'), filename='global_GLORYS_Jan2012_(2).nc', file_size=138819.17330534352, data_transfer_size=630106.1276335877, variables=['thetao', 'so', 'uo', 'vo', 'zos'], coordinates_extent=[GeographicalExtent(minimum=-180.0, maximum=179.9166717529297, unit='degrees_east', coordinate_id='longitude'), GeographicalExtent(minimum=-80.0, maximum=90.0, unit='degrees_north', coordinate_id='latitude'), TimeExtent(minimum='2012-01-01T00:00:00+00:00', maximum='2012-02-02T00:00:00+00:00', unit='iso8601', coordinate_id='time'), GeographicalExtent(minimum=0.49402499198913574, maximum=5727.9169921875, unit='m', coordinate_id='depth')], status='000', message='The request was successful.', file_status='DOWNLOADED')"
      ]
     },
     "execution_count": 4,
     "metadata": {},
     "output_type": "execute_result"
    }
   ],
   "source": [
    "%%time\n",
    "\n",
    "copernicusmarine.subset(\n",
    "    dataset_id=\"cmems_mod_glo_phy_my_0.083deg_P1D-m\",\n",
    "    variables=[\"thetao\", \"so\", \"uo\", \"vo\", \"zos\"],\n",
    "    minimum_longitude=None, # global data\n",
    "    maximum_longitude=None, # global data\n",
    "    minimum_latitude=None, # global data\n",
    "    maximum_latitude=None, # global data \n",
    "    start_datetime=start_time,\n",
    "    end_datetime=end_time,\n",
    "    coordinates_selection_method=\"outside\",\n",
    "    output_filename = \"global_GLORYS_Jan2012.nc\",\n",
    "    output_directory = \"copernicus-data\"\n",
    ")"
   ]
  },
  {
   "cell_type": "markdown",
   "id": "e6508ad7-554e-4215-9e49-f74f23dbfb21",
   "metadata": {},
   "source": [
    "### Downloading a spatial subset\n",
    "\n",
    "If you don’t want to download the entire *global* dataset (which can be very time-consuming) you can instead download a **spatial subset** of GLORYS data for a specific domain. This requires specifying `minimum_longitude`, `maximum_longitude`, `minimum_latitude`, and `maximum_latitude`.\n",
    "\n",
    "Because ROMS grids (at least those created by ROMS-Tools) are **not regular lat-lon grids**, determining these bounds is not straightforward. Additionally, ROMS-Tools requires a **safety margin** to perform [lateral fill](https://roms-tools.readthedocs.io/en/latest/methods.html#multigrid-method-for-filling-land-values) and regridding, which helps prevent boundary artifacts. ROMS-Tools provides a function that can compute appropriate bounds given a grid."
   ]
  },
  {
   "cell_type": "code",
   "execution_count": 5,
   "id": "44b4a332-012a-40a3-808d-9f6e11b0306c",
   "metadata": {},
   "outputs": [],
   "source": [
    "from roms_tools import Grid"
   ]
  },
  {
   "cell_type": "code",
   "execution_count": 6,
   "id": "a362421e-c1d6-4414-ae4f-3692fa0baa93",
   "metadata": {},
   "outputs": [],
   "source": [
    "grid = Grid(\n",
    "    nx=100,  # number of grid points in x-direction\n",
    "    ny=80,  # number of grid points in y-direction\n",
    "    size_x=2000,  # domain size in x-direction (in km)\n",
    "    size_y=1600,  # domain size in y-direction (in km)\n",
    "    center_lon=-89,  # longitude of the center of the domain\n",
    "    center_lat=24,  # latitude of the center of the domain\n",
    "    rot=0,  # rotation of the grid (in degrees)\n",
    "    N=20,  # number of vertical layers\n",
    ")"
   ]
  },
  {
   "cell_type": "code",
   "execution_count": 7,
   "id": "9250202f-bf4b-4ef5-9d93-44c05bd68137",
   "metadata": {},
   "outputs": [],
   "source": [
    "from roms_tools import get_glorys_bounds"
   ]
  },
  {
   "cell_type": "code",
   "execution_count": 8,
   "id": "dad70a11-cdfd-48bf-bed9-f5137b163546",
   "metadata": {},
   "outputs": [],
   "source": [
    "bounds = get_glorys_bounds(grid.ds)"
   ]
  },
  {
   "cell_type": "code",
   "execution_count": 9,
   "id": "a6cae0a7-15e4-4a05-b840-4206119fcaf0",
   "metadata": {},
   "outputs": [
    {
     "data": {
      "text/plain": [
       "{'minimum_latitude': 14.833333015441895,\n",
       " 'maximum_latitude': 32.91666793823242,\n",
       " 'minimum_longitude': -101.16666412353516,\n",
       " 'maximum_longitude': -76.83333587646484}"
      ]
     },
     "execution_count": 9,
     "metadata": {},
     "output_type": "execute_result"
    }
   ],
   "source": [
    "bounds"
   ]
  },
  {
   "cell_type": "code",
   "execution_count": 10,
   "id": "fc5d5437-a16f-47b9-88ad-9c66a3b0b0ba",
   "metadata": {},
   "outputs": [
    {
     "name": "stderr",
     "output_type": "stream",
     "text": [
      "INFO - 2025-09-02T19:01:05Z - Selected dataset version: \"202311\"\n",
      "2025-09-02 19:01:05 - INFO - Selected dataset version: \"202311\"\n",
      "INFO - 2025-09-02T19:01:05Z - Selected dataset part: \"default\"\n",
      "2025-09-02 19:01:05 - INFO - Selected dataset part: \"default\"\n",
      "INFO - 2025-09-02T19:01:08Z - Starting download. Please wait...\n",
      "2025-09-02 19:01:08 - INFO - Starting download. Please wait...\n"
     ]
    },
    {
     "data": {
      "application/vnd.jupyter.widget-view+json": {
       "model_id": "570693c5bbdf4745bb262c00c0dd0f90",
       "version_major": 2,
       "version_minor": 0
      },
      "text/plain": [
       "  0%|          | 0/584 [00:00<?, ?it/s]"
      ]
     },
     "metadata": {},
     "output_type": "display_data"
    },
    {
     "name": "stderr",
     "output_type": "stream",
     "text": [
      "INFO - 2025-09-02T19:31:42Z - Successfully downloaded to copernicus-data/regional_GLORYS_Jan2012_(1).nc\n",
      "2025-09-02 19:31:42 - INFO - Successfully downloaded to copernicus-data/regional_GLORYS_Jan2012_(1).nc\n"
     ]
    },
    {
     "name": "stdout",
     "output_type": "stream",
     "text": [
      "CPU times: user 1min 9s, sys: 30 s, total: 1min 39s\n",
      "Wall time: 30min 42s\n"
     ]
    },
    {
     "data": {
      "text/plain": [
       "ResponseSubset(file_path=PosixPath('copernicus-data/regional_GLORYS_Jan2012_(1).nc'), output_directory=PosixPath('copernicus-data'), filename='regional_GLORYS_Jan2012_(1).nc', file_size=1005.6628091603054, data_transfer_size=52508.84396946565, variables=['thetao', 'so', 'uo', 'vo', 'zos'], coordinates_extent=[GeographicalExtent(minimum=-101.16666412353516, maximum=-76.83333587646484, unit='degrees_east', coordinate_id='longitude'), GeographicalExtent(minimum=14.833333015441895, maximum=32.91666793823242, unit='degrees_north', coordinate_id='latitude'), TimeExtent(minimum='2012-01-01T00:00:00+00:00', maximum='2012-02-02T00:00:00+00:00', unit='iso8601', coordinate_id='time'), GeographicalExtent(minimum=0.49402499198913574, maximum=5727.9169921875, unit='m', coordinate_id='depth')], status='000', message='The request was successful.', file_status='DOWNLOADED')"
      ]
     },
     "execution_count": 10,
     "metadata": {},
     "output_type": "execute_result"
    }
   ],
   "source": [
    "%%time\n",
    "\n",
    "copernicusmarine.subset(\n",
    "    dataset_id=\"cmems_mod_glo_phy_my_0.083deg_P1D-m\",\n",
    "    variables=[\"thetao\", \"so\", \"uo\", \"vo\", \"zos\"],\n",
    "    **bounds, # regional data\n",
    "    start_datetime=start_time,\n",
    "    end_datetime=end_time,\n",
    "    coordinates_selection_method=\"outside\",\n",
    "    output_filename = \"regional_GLORYS_Jan2012.nc\",\n",
    "    output_directory = \"copernicus-data\"\n",
    ")"
   ]
  },
  {
   "cell_type": "markdown",
   "id": "669cda14-1cae-44d4-ace1-1651e36476f7",
   "metadata": {},
   "source": [
    "## Downloading the Unified BGC Dataset\n",
    "\n",
    "This section demonstrates how to download a **unified biogeochemical (BGC) climatology**, which integrates multiple observational and model-based sources:\n",
    "\n",
    "- **Nutrients (NO₃⁻, PO₄³⁻, SiO₄⁴⁻)** and **dissolved oxygen** from the 2018 **World Ocean Atlas**\n",
    "- **Dissolved iron (Fe)** and **nitrous oxide (N₂O)** from **in-situ measurements**\n",
    "- **Dissolved inorganic carbon (DIC)** and **total alkalinity (ALK)** from the **GLODAPv2** global product\n",
    "- **Other nutrients** (ammonium NH₄⁺, nitrite NO₂⁻, organic nitrogen) and **dissolved organic matter (DOM)** from **CESM model simulations**\n",
    "\n",
    "The dataset is hosted on **Google Drive** and can be downloaded using the following procedure."
   ]
  },
  {
   "cell_type": "code",
   "execution_count": 13,
   "id": "bc249fa1-0228-411b-ac1a-6eda1468ef14",
   "metadata": {},
   "outputs": [],
   "source": [
    "import gdown\n",
    "import os"
   ]
  },
  {
   "cell_type": "code",
   "execution_count": 14,
   "id": "3fe552eb-9cdc-4918-b2a0-e5b66aae9451",
   "metadata": {},
   "outputs": [],
   "source": [
    "url = \"https://drive.google.com/uc?id=1wUNwVeJsd6yM7o-5kCx-vM3wGwlnGSiq\""
   ]
  },
  {
   "cell_type": "code",
   "execution_count": 15,
   "id": "533d4448-e55c-43f3-b68e-a2041a5c3fa7",
   "metadata": {},
   "outputs": [],
   "source": [
    "output_dir = \"BGC-data\""
   ]
  },
  {
   "cell_type": "code",
   "execution_count": 16,
   "id": "656f1fc3-dd34-4ec4-8364-8023f6dd6311",
   "metadata": {},
   "outputs": [],
   "source": [
    "os.makedirs(output_dir, exist_ok=True)"
   ]
  },
  {
   "cell_type": "code",
   "execution_count": 17,
   "id": "22fc4baf-2207-4b68-94ae-af75e08928cb",
   "metadata": {},
   "outputs": [
    {
     "name": "stderr",
     "output_type": "stream",
     "text": [
      "Downloading...\n",
      "From (original): https://drive.google.com/uc?id=1wUNwVeJsd6yM7o-5kCx-vM3wGwlnGSiq\n",
      "From (redirected): https://drive.google.com/uc?id=1wUNwVeJsd6yM7o-5kCx-vM3wGwlnGSiq&confirm=t&uuid=ae520df6-6c60-4c35-aa91-91767ec77231\n",
      "To: /Users/noraloose/roms-tools/docs/BGC-data/BGCdataset.nc\n",
      "100%|████████████████████████████████████████████████████████████████████████████████████████████████████████████████████████████████████████████████████████████████████████████████████████████████████████████████| 21.4G/21.4G [06:13<00:00, 57.3MB/s]\n"
     ]
    },
    {
     "data": {
      "text/plain": [
       "'BGC-data/BGCdataset.nc'"
      ]
     },
     "execution_count": 17,
     "metadata": {},
     "output_type": "execute_result"
    }
   ],
   "source": [
    "gdown.download(url, \"BGC-data/BGCdataset.nc\", quiet=False)"
   ]
  },
  {
   "cell_type": "markdown",
   "id": "1d09fcfe-9242-4ade-b703-2fb32afbf112",
   "metadata": {},
   "source": [
    "### Handling File Download Limits"
   ]
  },
  {
   "cell_type": "markdown",
   "id": "cf59e17d-ae2e-44e9-b477-8b7d6734fd5f",
   "metadata": {},
   "source": [
    "<div class=\"alert alert-info\">\n",
    "Note\n",
    "    \n",
    "If you encounter a `FileURLRetrievalError`, it usually means the file has been accessed or downloaded too many times recently. This often happens with large files or files shared by many users.  \n",
    "\n",
    "**Workaround:** Download the file manually using the following link: [Download unified BGC dataset](https://drive.google.com/uc?id=1wUNwVeJsd6yM7o-5kCx-vM3wGwlnGSiq)\n",
    "\n",
    "After downloading, place the file in the appropriate directory for your workflow.\n",
    "\n",
    "</div>\n",
    "\n"
   ]
  },
  {
   "cell_type": "code",
   "execution_count": null,
   "id": "e9db58d6-b393-47a9-9104-4f24b9a12d9d",
   "metadata": {},
   "outputs": [],
   "source": []
  }
 ],
 "metadata": {
  "kernelspec": {
   "display_name": "Python (romstools-test)",
   "language": "python",
   "name": "romstools-test"
  },
  "language_info": {
   "codemirror_mode": {
    "name": "ipython",
    "version": 3
   },
   "file_extension": ".py",
   "mimetype": "text/x-python",
   "name": "python",
   "nbconvert_exporter": "python",
   "pygments_lexer": "ipython3",
   "version": "3.13.5"
  }
 },
 "nbformat": 4,
 "nbformat_minor": 5
}
